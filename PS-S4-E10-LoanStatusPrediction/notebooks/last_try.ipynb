{
 "cells": [
  {
   "cell_type": "markdown",
   "metadata": {},
   "source": [
    "# Comptetition near the end"
   ]
  },
  {
   "cell_type": "code",
   "execution_count": 1,
   "metadata": {},
   "outputs": [],
   "source": [
    "import pandas as pd\n",
    "import numpy as np\n",
    "import matplotlib.pyplot as plt\n",
    "import seaborn as sns\n",
    "\n",
    "from pathlib import Path"
   ]
  },
  {
   "cell_type": "code",
   "execution_count": null,
   "metadata": {},
   "outputs": [],
   "source": [
    "extratrees_best_params = {\n",
    "\t'n_estimators': 107, \n",
    "\t'max_depth': 20, \n",
    "\t'min_samples_split': 8, \n",
    "\t'min_samples_leaf': 1, \n",
    "\t'max_features': 0.9968259088694831}\n",
    "\n",
    "# AUC = 0.9390769388981566\n",
    "\n",
    "hist_best_params = {\n",
    "\t'learning_rate': 0.04424083488901783, \n",
    "\t'max_iter': 249, \n",
    "\t'max_depth': 12, \n",
    "\t'min_samples_leaf': 28, \n",
    "\t'max_leaf_nodes': 45, \n",
    "\t'l2_regularization': 0.0024743098624130113\n",
    "\t}\n",
    "\n",
    "# AUC = 0.9511768406476812\n",
    "\n",
    "knn_best_params = {\n",
    "\t'n_neighbors': 15,\n",
    "\t'leaf_size': 41,\n",
    "\t'p': 1,\n",
    "\t'weights': 'distance'\n",
    "\t}\n",
    "\n",
    "# AUC = 0.895272790005218"
   ]
  }
 ],
 "metadata": {
  "kernelspec": {
   "display_name": "Python 3",
   "language": "python",
   "name": "python3"
  },
  "language_info": {
   "codemirror_mode": {
    "name": "ipython",
    "version": 3
   },
   "file_extension": ".py",
   "mimetype": "text/x-python",
   "name": "python",
   "nbconvert_exporter": "python",
   "pygments_lexer": "ipython3",
   "version": "3.12.1"
  }
 },
 "nbformat": 4,
 "nbformat_minor": 2
}
