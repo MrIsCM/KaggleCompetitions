{
 "cells": [
  {
   "cell_type": "markdown",
   "metadata": {},
   "source": [
    "# Imports"
   ]
  },
  {
   "cell_type": "code",
   "execution_count": 11,
   "metadata": {},
   "outputs": [],
   "source": [
    "# General\n",
    "import pandas as pd\n",
    "import numpy as np\n",
    "import matplotlib.pyplot as plt\n",
    "\n",
    "# Hyperparameter tuning\n",
    "import optuna\n",
    "\n",
    "# Models\n",
    "import lightgbm as lgb\n",
    "import xgboost as xgb\n",
    "from catboost import CatBoostClassifier\n",
    "from sklearn.neural_network import MLPClassifier\n",
    "from sklearn.ensemble import RandomForestClassifier\n",
    "from sklearn.ensemble import StackingClassifier\n",
    "from sklearn.linear_model import LogisticRegression\n",
    "from sklearn.linear_model import SGDClassifier\n",
    "from sklearn.svm import SVC\n",
    "\n",
    "\n",
    "# Data processing\n",
    "from sklearn.model_selection import train_test_split\n",
    "from sklearn.preprocessing import StandardScaler\n",
    "from sklearn.preprocessing import OrdinalEncoder, OneHotEncoder\n",
    "from sklearn.model_selection import train_test_split\n",
    "\n",
    "from sklearn.compose import ColumnTransformer\n",
    "from sklearn.pipeline import Pipeline\n",
    "\n",
    "# Metrics\n",
    "from sklearn.metrics import roc_auc_score"
   ]
  },
  {
   "cell_type": "markdown",
   "metadata": {},
   "source": [
    "# Data preparation"
   ]
  },
  {
   "cell_type": "code",
   "execution_count": 10,
   "metadata": {},
   "outputs": [],
   "source": [
    "# Data input\n",
    "data = pd.read_csv('../data/train.csv')\n",
    "data_to_predict = pd.read_csv('../data/test.csv')\n",
    "data_ccrisk = pd.read_csv('../data/credit_risk_dataset.csv')\n",
    "\n",
    "X_old = data.drop(['loan_status'], axis=1)\n",
    "y_old = data['loan_status']\n",
    "\n",
    "# Merge the dataframes\n",
    "data_no_id = data.drop(['id'], axis=1)\n",
    "merged_data = pd.concat([data_no_id, data_ccrisk], ignore_index=True)\n",
    "\n",
    "X = merged_data.drop(['loan_status'], axis=1)\n",
    "y = merged_data['loan_status']\n",
    "\n",
    "X_train, X_test, y_train, y_test = train_test_split(X, y, stratify=y, shuffle=True, test_size=0.2, random_state=2024)"
   ]
  },
  {
   "cell_type": "code",
   "execution_count": 12,
   "metadata": {},
   "outputs": [],
   "source": [
    "# Data processing\n",
    "\n",
    "categorical_columns = X.select_dtypes(include=['object']).columns\n",
    "\n",
    "categorical_ordinal = ['loan_grade']\n",
    "categorical_onehot = categorical_columns.drop(categorical_ordinal)\n",
    "\n",
    "numerical_columns = X.select_dtypes(include=['int64', 'float64']).columns\n",
    "\n",
    "# Preprocessor\n",
    "preprocessor = ColumnTransformer(\n",
    "\ttransformers=[\n",
    "\t\t('ordinal', OrdinalEncoder(), categorical_ordinal),\n",
    "\t\t('onehot', OneHotEncoder(), categorical_onehot),\n",
    "\t\t('scaler', StandardScaler(), numerical_columns)\n",
    "\t])\n",
    "\n",
    "preprocessor.fit(X_train)\n",
    "\n",
    "X_train_prep = preprocessor.transform(X_train)\n",
    "X_test_prep = preprocessor.transform(X_test)"
   ]
  },
  {
   "cell_type": "code",
   "execution_count": 14,
   "metadata": {},
   "outputs": [
    {
     "name": "stderr",
     "output_type": "stream",
     "text": [
      "[I 2024-10-09 21:08:31,030] A new study created in memory with name: no-name-ef6fb6ae-f37b-4b49-abb2-ddc88c5b12f3\n",
      "[I 2024-10-09 21:08:33,361] Trial 0 finished with value: 0.939108817007827 and parameters: {'max_depth': 3, 'learning_rate': 0.07465517037951955, 'n_estimators': 135, 'subsample': 0.7369438291641859, 'colsample_bytree': 0.8923076783150959, 'gamma': 0.30157194902631745, 'lambda': 1.6268250332604492, 'alpha': 1.2805043154157706e-05, 'scale_pos_weight': 2.6463118946663324}. Best is trial 0 with value: 0.939108817007827.\n",
      "[I 2024-10-09 21:08:37,561] Trial 1 finished with value: 0.9550097865450714 and parameters: {'max_depth': 4, 'learning_rate': 0.09141033241296674, 'n_estimators': 226, 'subsample': 0.7663718146248113, 'colsample_bytree': 0.6098644847778827, 'gamma': 0.23092627109255753, 'lambda': 0.31921581391424503, 'alpha': 6.129147756852991, 'scale_pos_weight': 2.191348000078599}. Best is trial 1 with value: 0.9550097865450714.\n",
      "[I 2024-10-09 21:08:43,280] Trial 2 finished with value: 0.9547313706916878 and parameters: {'max_depth': 10, 'learning_rate': 0.22998641091530314, 'n_estimators': 224, 'subsample': 0.835933506378937, 'colsample_bytree': 0.9485449802089733, 'gamma': 0.45313543345915913, 'lambda': 1.5727902356093326, 'alpha': 2.759278689901208, 'scale_pos_weight': 1.1930241911516504}. Best is trial 1 with value: 0.9550097865450714.\n",
      "[I 2024-10-09 21:08:50,954] Trial 3 finished with value: 0.9444244458915206 and parameters: {'max_depth': 4, 'learning_rate': 0.01919437737456651, 'n_estimators': 443, 'subsample': 0.8586267222525115, 'colsample_bytree': 0.5777479344178063, 'gamma': 0.18089959547337325, 'lambda': 6.718458063669943e-08, 'alpha': 1.1524647932242826e-07, 'scale_pos_weight': 2.7256946622714464}. Best is trial 1 with value: 0.9550097865450714.\n",
      "[I 2024-10-09 21:09:00,576] Trial 4 finished with value: 0.9592126910591579 and parameters: {'max_depth': 6, 'learning_rate': 0.03707733325217397, 'n_estimators': 499, 'subsample': 0.850224682179192, 'colsample_bytree': 0.7844597004626956, 'gamma': 0.03183686314336448, 'lambda': 0.0005327343359185902, 'alpha': 0.00038750873676980744, 'scale_pos_weight': 2.0423308194709486}. Best is trial 4 with value: 0.9592126910591579.\n",
      "[I 2024-10-09 21:09:05,545] Trial 5 finished with value: 0.9569448466208333 and parameters: {'max_depth': 3, 'learning_rate': 0.18868813249647445, 'n_estimators': 314, 'subsample': 0.9363621123141573, 'colsample_bytree': 0.7577668067649601, 'gamma': 0.38920616856158546, 'lambda': 4.31263606241349e-06, 'alpha': 0.0024350742991795563, 'scale_pos_weight': 2.6521428924189543}. Best is trial 4 with value: 0.9592126910591579.\n",
      "[I 2024-10-09 21:09:10,422] Trial 6 finished with value: 0.9570769743697349 and parameters: {'max_depth': 9, 'learning_rate': 0.0944392175532155, 'n_estimators': 190, 'subsample': 0.9000631509130953, 'colsample_bytree': 0.8918033408930562, 'gamma': 0.17928798683043334, 'lambda': 6.717384652294103e-05, 'alpha': 1.2243486689358441e-08, 'scale_pos_weight': 2.2166025166627166}. Best is trial 4 with value: 0.9592126910591579.\n",
      "[I 2024-10-09 21:09:32,469] Trial 7 finished with value: 0.9554025203256057 and parameters: {'max_depth': 10, 'learning_rate': 0.05751252233552023, 'n_estimators': 457, 'subsample': 0.6679446307769438, 'colsample_bytree': 0.7340945982568949, 'gamma': 0.40564075070453887, 'lambda': 1.0228664740449895, 'alpha': 4.151657167809256e-05, 'scale_pos_weight': 2.5439603784889564}. Best is trial 4 with value: 0.9592126910591579.\n",
      "[I 2024-10-09 21:09:40,262] Trial 8 finished with value: 0.9539408664404652 and parameters: {'max_depth': 9, 'learning_rate': 0.17457614954781947, 'n_estimators': 162, 'subsample': 0.8569510689438247, 'colsample_bytree': 0.8485756494765824, 'gamma': 0.15158798260459622, 'lambda': 0.0003263335450618168, 'alpha': 1.2373015871802769e-08, 'scale_pos_weight': 2.4591569190504963}. Best is trial 4 with value: 0.9592126910591579.\n",
      "[I 2024-10-09 21:09:50,389] Trial 9 finished with value: 0.9527838469419864 and parameters: {'max_depth': 7, 'learning_rate': 0.2163209597240319, 'n_estimators': 393, 'subsample': 0.9185069627059146, 'colsample_bytree': 0.9426330794466085, 'gamma': 0.03635132011010889, 'lambda': 2.1972230120911414e-07, 'alpha': 2.3023768492509032e-05, 'scale_pos_weight': 2.221770164926845}. Best is trial 4 with value: 0.9592126910591579.\n",
      "[I 2024-10-09 21:09:57,352] Trial 10 finished with value: 0.9537524920945306 and parameters: {'max_depth': 6, 'learning_rate': 0.2881464951521602, 'n_estimators': 333, 'subsample': 0.9904849797661751, 'colsample_bytree': 0.7021191499398218, 'gamma': 0.008557084761320426, 'lambda': 0.0050013605811526085, 'alpha': 0.0034598103463105044, 'scale_pos_weight': 1.6368374476780114}. Best is trial 4 with value: 0.9592126910591579.\n",
      "[I 2024-10-09 21:10:07,118] Trial 11 finished with value: 0.9562001741158176 and parameters: {'max_depth': 7, 'learning_rate': 0.11570831318349974, 'n_estimators': 495, 'subsample': 0.9171632380246132, 'colsample_bytree': 0.8370166230858493, 'gamma': 0.10158903962087901, 'lambda': 3.865885229156648e-05, 'alpha': 0.026529953339086178, 'scale_pos_weight': 1.778001788903877}. Best is trial 4 with value: 0.9592126910591579.\n",
      "[I 2024-10-09 21:10:12,403] Trial 12 finished with value: 0.9554052200768957 and parameters: {'max_depth': 8, 'learning_rate': 0.025057516880963873, 'n_estimators': 241, 'subsample': 0.6093114058218545, 'colsample_bytree': 0.9984128707005584, 'gamma': 0.09478182283409337, 'lambda': 0.004468882484194841, 'alpha': 2.346885344542571e-06, 'scale_pos_weight': 1.912211749803634}. Best is trial 4 with value: 0.9592126910591579.\n",
      "[I 2024-10-09 21:10:14,508] Trial 13 finished with value: 0.957082000388935 and parameters: {'max_depth': 6, 'learning_rate': 0.11709982873628152, 'n_estimators': 108, 'subsample': 0.8051451617265178, 'colsample_bytree': 0.8023474504739211, 'gamma': 0.28341678625650457, 'lambda': 0.006909062661695269, 'alpha': 0.12466408457380063, 'scale_pos_weight': 1.4842122692745483}. Best is trial 4 with value: 0.9592126910591579.\n",
      "[I 2024-10-09 21:10:16,533] Trial 14 finished with value: 0.9550473696440562 and parameters: {'max_depth': 5, 'learning_rate': 0.13394687218249451, 'n_estimators': 102, 'subsample': 0.7889466723265524, 'colsample_bytree': 0.6688185889862687, 'gamma': 0.2960585589402148, 'lambda': 0.012809792962614528, 'alpha': 0.19837524160153477, 'scale_pos_weight': 1.348648552002135}. Best is trial 4 with value: 0.9592126910591579.\n",
      "[I 2024-10-09 21:10:23,193] Trial 15 finished with value: 0.9590310287431103 and parameters: {'max_depth': 6, 'learning_rate': 0.05053417035502178, 'n_estimators': 363, 'subsample': 0.7035730823480315, 'colsample_bytree': 0.7938603109722051, 'gamma': 0.3310997508673985, 'lambda': 0.058688426366876774, 'alpha': 0.0005952254774764625, 'scale_pos_weight': 1.5854547739636582}. Best is trial 4 with value: 0.9592126910591579.\n",
      "[I 2024-10-09 21:10:29,681] Trial 16 finished with value: 0.9571596956029353 and parameters: {'max_depth': 5, 'learning_rate': 0.0481663568114414, 'n_estimators': 378, 'subsample': 0.6813628918970508, 'colsample_bytree': 0.6600022883852836, 'gamma': 0.3580117537391629, 'lambda': 0.08774605411168966, 'alpha': 0.00040769185393771325, 'scale_pos_weight': 1.0109261145199324}. Best is trial 4 with value: 0.9592126910591579.\n",
      "[I 2024-10-09 21:10:36,452] Trial 17 finished with value: 0.9428485594468587 and parameters: {'max_depth': 5, 'learning_rate': 0.014384250599129372, 'n_estimators': 386, 'subsample': 0.7258542421225709, 'colsample_bytree': 0.5250602127663672, 'gamma': 0.25005812325740434, 'lambda': 0.0006148181162538598, 'alpha': 0.00031142271537872723, 'scale_pos_weight': 2.9313480474419915}. Best is trial 4 with value: 0.9592126910591579.\n",
      "[I 2024-10-09 21:10:49,733] Trial 18 finished with value: 0.9584909504336762 and parameters: {'max_depth': 8, 'learning_rate': 0.052827851666211956, 'n_estimators': 500, 'subsample': 0.6098933023364219, 'colsample_bytree': 0.7865750563997259, 'gamma': 0.48737853650599716, 'lambda': 9.613757806478665, 'alpha': 1.1815254044694863e-06, 'scale_pos_weight': 1.9790371076684914}. Best is trial 4 with value: 0.9592126910591579.\n",
      "[I 2024-10-09 21:10:55,578] Trial 19 finished with value: 0.9572913111460586 and parameters: {'max_depth': 6, 'learning_rate': 0.14461146640072206, 'n_estimators': 281, 'subsample': 0.6758367885892016, 'colsample_bytree': 0.7259265446550611, 'gamma': 0.35142579352403747, 'lambda': 0.04818387401849205, 'alpha': 0.0013452498239897213, 'scale_pos_weight': 1.6112901434250984}. Best is trial 4 with value: 0.9592126910591579.\n",
      "[I 2024-10-09 21:11:05,107] Trial 20 finished with value: 0.9593943320332982 and parameters: {'max_depth': 7, 'learning_rate': 0.04277107860011724, 'n_estimators': 434, 'subsample': 0.7162698408038328, 'colsample_bytree': 0.8161554757883083, 'gamma': 0.07686135043146958, 'lambda': 2.4598700667961127e-06, 'alpha': 0.023293798909535805, 'scale_pos_weight': 1.7122348435722854}. Best is trial 20 with value: 0.9593943320332982.\n",
      "[I 2024-10-09 21:11:14,633] Trial 21 finished with value: 0.9594862622995546 and parameters: {'max_depth': 7, 'learning_rate': 0.04131775694571367, 'n_estimators': 436, 'subsample': 0.718773513936501, 'colsample_bytree': 0.8154675623268026, 'gamma': 0.07245199370949187, 'lambda': 1.659477402157195e-06, 'alpha': 0.02128180546676424, 'scale_pos_weight': 1.7707006760717054}. Best is trial 21 with value: 0.9594862622995546.\n",
      "[I 2024-10-09 21:11:24,033] Trial 22 finished with value: 0.9570158938306692 and parameters: {'max_depth': 7, 'learning_rate': 0.08636692111573069, 'n_estimators': 436, 'subsample': 0.7612777338778625, 'colsample_bytree': 0.8498491086655178, 'gamma': 0.06038580167919371, 'lambda': 3.8390281513562825e-06, 'alpha': 0.01924115674314807, 'scale_pos_weight': 1.8229918455445346}. Best is trial 21 with value: 0.9594862622995546.\n",
      "[I 2024-10-09 21:11:35,177] Trial 23 finished with value: 0.9589984289795103 and parameters: {'max_depth': 8, 'learning_rate': 0.03521308627334285, 'n_estimators': 468, 'subsample': 0.6523417607013174, 'colsample_bytree': 0.8807479121175021, 'gamma': 0.11440484985979188, 'lambda': 1.008340007702505e-08, 'alpha': 0.508413873880395, 'scale_pos_weight': 2.1186667138405797}. Best is trial 21 with value: 0.9594862622995546.\n",
      "[I 2024-10-09 21:11:44,732] Trial 24 finished with value: 0.958261524928799 and parameters: {'max_depth': 7, 'learning_rate': 0.07253687869888117, 'n_estimators': 415, 'subsample': 0.8142415197726066, 'colsample_bytree': 0.7653977318067487, 'gamma': 0.008558178124361507, 'lambda': 1.0219011215007933e-06, 'alpha': 0.017135177061771246, 'scale_pos_weight': 1.7496133547271482}. Best is trial 21 with value: 0.9594862622995546.\n",
      "[I 2024-10-09 21:11:56,582] Trial 25 finished with value: 0.9547224177615208 and parameters: {'max_depth': 8, 'learning_rate': 0.012752172244680813, 'n_estimators': 419, 'subsample': 0.7419849218968906, 'colsample_bytree': 0.8323948448653291, 'gamma': 0.052339983250699884, 'lambda': 2.1571635669408106e-05, 'alpha': 0.00015390804597615487, 'scale_pos_weight': 2.3737957154307034}. Best is trial 21 with value: 0.9594862622995546.\n",
      "[I 2024-10-09 21:12:12,098] Trial 26 finished with value: 0.9526829637455628 and parameters: {'max_depth': 9, 'learning_rate': 0.10717527980513952, 'n_estimators': 478, 'subsample': 0.6361837192518226, 'colsample_bytree': 0.6840594907210529, 'gamma': 0.13655884893394907, 'lambda': 4.461022194568094e-07, 'alpha': 0.00512428509679762, 'scale_pos_weight': 2.0430171126235988}. Best is trial 21 with value: 0.9594862622995546.\n",
      "[I 2024-10-09 21:12:25,523] Trial 27 finished with value: 0.9586485390781423 and parameters: {'max_depth': 7, 'learning_rate': 0.038829732842289646, 'n_estimators': 426, 'subsample': 0.7174945383610897, 'colsample_bytree': 0.9287061752180608, 'gamma': 0.07855616179207109, 'lambda': 7.960102395860281e-06, 'alpha': 0.12074829947337791, 'scale_pos_weight': 1.3965606229485261}. Best is trial 21 with value: 0.9594862622995546.\n",
      "[I 2024-10-09 21:12:34,152] Trial 28 finished with value: 0.9587134931734067 and parameters: {'max_depth': 5, 'learning_rate': 0.06701250086679825, 'n_estimators': 348, 'subsample': 0.7744480061806969, 'colsample_bytree': 0.7943209484720688, 'gamma': 0.19142763126057155, 'lambda': 0.0008753123320712499, 'alpha': 0.8087638269397045, 'scale_pos_weight': 1.8932741065636174}. Best is trial 21 with value: 0.9594862622995546.\n",
      "[I 2024-10-09 21:12:46,665] Trial 29 finished with value: 0.9581452008623497 and parameters: {'max_depth': 6, 'learning_rate': 0.07564185091441683, 'n_estimators': 468, 'subsample': 0.7466360327027063, 'colsample_bytree': 0.881959992934543, 'gamma': 0.024278264260824516, 'lambda': 4.808804410901601e-08, 'alpha': 9.585380448949308e-05, 'scale_pos_weight': 1.697491716539199}. Best is trial 21 with value: 0.9594862622995546.\n",
      "[I 2024-10-09 21:12:55,262] Trial 30 finished with value: 0.9511943123475227 and parameters: {'max_depth': 4, 'learning_rate': 0.03363550947002547, 'n_estimators': 403, 'subsample': 0.6955605210283862, 'colsample_bytree': 0.6294207431586085, 'gamma': 0.13449795507549972, 'lambda': 6.846449909284705e-05, 'alpha': 5.276106502299678e-06, 'scale_pos_weight': 2.3203009906385943}. Best is trial 21 with value: 0.9594862622995546.\n",
      "[I 2024-10-09 21:13:05,894] Trial 31 finished with value: 0.9591780424724445 and parameters: {'max_depth': 6, 'learning_rate': 0.054877463637108645, 'n_estimators': 370, 'subsample': 0.7049695152202432, 'colsample_bytree': 0.8139948533789589, 'gamma': 0.33283678229419206, 'lambda': 1.6880889199840049e-06, 'alpha': 0.0006531770200618697, 'scale_pos_weight': 1.5079024791769835}. Best is trial 21 with value: 0.9594862622995546.\n",
      "[I 2024-10-09 21:13:16,112] Trial 32 finished with value: 0.95840462241812 and parameters: {'max_depth': 6, 'learning_rate': 0.07182481717582702, 'n_estimators': 451, 'subsample': 0.6415734768453439, 'colsample_bytree': 0.8143958128926032, 'gamma': 0.24623117401852324, 'lambda': 1.3664142170221099e-06, 'alpha': 0.007247314331811025, 'scale_pos_weight': 1.499328329049501}. Best is trial 21 with value: 0.9594862622995546.\n",
      "[I 2024-10-09 21:13:28,636] Trial 33 finished with value: 0.9575719572287688 and parameters: {'max_depth': 7, 'learning_rate': 0.09698561947806156, 'n_estimators': 366, 'subsample': 0.723484697802794, 'colsample_bytree': 0.7635300335298549, 'gamma': 0.07512978439206996, 'lambda': 1.2338685493986464e-05, 'alpha': 0.0323720770003611, 'scale_pos_weight': 1.2664056948748041}. Best is trial 21 with value: 0.9594862622995546.\n",
      "[I 2024-10-09 21:13:35,708] Trial 34 finished with value: 0.9528328799743078 and parameters: {'max_depth': 5, 'learning_rate': 0.03411800175358404, 'n_estimators': 271, 'subsample': 0.8295533911629065, 'colsample_bytree': 0.8645758989714583, 'gamma': 0.03539220291187106, 'lambda': 1.7497497960925885e-07, 'alpha': 0.0007166252362527525, 'scale_pos_weight': 1.1245493660189874}. Best is trial 21 with value: 0.9594862622995546.\n"
     ]
    }
   ],
   "source": [
    "def objective(trial):\n",
    "    # Hyperparameter search space\n",
    "    param = {\n",
    "        'max_depth': trial.suggest_int('max_depth', 3, 10),\n",
    "        'learning_rate': trial.suggest_float('learning_rate', 0.01, 0.3),\n",
    "        'n_estimators': trial.suggest_int('n_estimators', 100, 500),\n",
    "        'subsample': trial.suggest_float('subsample', 0.6, 1.0),\n",
    "        'colsample_bytree': trial.suggest_float('colsample_bytree', 0.5, 1.0),\n",
    "        'gamma': trial.suggest_float('gamma', 0.0, 0.5),\n",
    "        'lambda': trial.suggest_float('lambda', 1e-8, 10.0, log=True),\n",
    "        'alpha': trial.suggest_float('alpha', 1e-8, 10.0, log=True),\n",
    "        'scale_pos_weight': trial.suggest_float('scale_pos_weight', 1.0, 3.0),\n",
    "        'eval_metric': 'auc',  # AUC is the metric\n",
    "        'objective': 'binary:logistic'  # Use binary logistic, probability outputs\n",
    "    }\n",
    "\n",
    "    # Initialize the model\n",
    "    model = xgb.XGBClassifier(**param)\n",
    "\n",
    "    # Fit the model\n",
    "    model.fit(X_train_prep, y_train, \n",
    "              eval_set=[(X_test_prep, y_test)],  \n",
    "              verbose=False)\n",
    "\n",
    "    # Predict proba for validation set\n",
    "    y_pred_prob = model.predict_proba(X_test_prep)[:, 1]\n",
    "\n",
    "    auc = roc_auc_score(y_test, y_pred_prob)\n",
    "    \n",
    "    return auc\n",
    "\n",
    "# Study object to run the optimization. I want to maximize AUC\n",
    "study = optuna.create_study(direction='maximize')\n",
    "study.optimize(objective, n_trials=50)\n",
    "\n",
    "\n",
    "print(f\"Best trial: {study.best_trial.params}\")"
   ]
  }
 ],
 "metadata": {
  "kernelspec": {
   "display_name": "Python 3",
   "language": "python",
   "name": "python3"
  },
  "language_info": {
   "codemirror_mode": {
    "name": "ipython",
    "version": 3
   },
   "file_extension": ".py",
   "mimetype": "text/x-python",
   "name": "python",
   "nbconvert_exporter": "python",
   "pygments_lexer": "ipython3",
   "version": "3.12.1"
  }
 },
 "nbformat": 4,
 "nbformat_minor": 2
}
